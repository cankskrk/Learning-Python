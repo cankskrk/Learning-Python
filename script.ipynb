{
 "cells": [
  {
   "attachments": {},
   "cell_type": "markdown",
   "metadata": {},
   "source": [
    "### 'In' Key in Python"
   ]
  },
  {
   "cell_type": "code",
   "execution_count": null,
   "metadata": {},
   "outputs": [],
   "source": [
    "list = [\"Asya\", \"Alp\", \"Kujito\", \"Arda\"]\n",
    "\n",
    "\"Kujito\" in list"
   ]
  },
  {
   "cell_type": "code",
   "execution_count": null,
   "metadata": {},
   "outputs": [],
   "source": [
    "tuple = (1, 2, 3, 4, 5, 6, 7, 8, 9)\n",
    "\n",
    "10 in tuple"
   ]
  },
  {
   "attachments": {},
   "cell_type": "markdown",
   "metadata": {},
   "source": [
    "### Non-Scalar For"
   ]
  },
  {
   "cell_type": "code",
   "execution_count": 3,
   "metadata": {},
   "outputs": [
    {
     "name": "stdout",
     "output_type": "stream",
     "text": [
      "90\n",
      "72\n",
      "81\n",
      "77\n"
     ]
    }
   ],
   "source": [
    "notlar = [90, 72, 81, 77]\n",
    "\n",
    "for e in notlar:\n",
    "    print(e)"
   ]
  },
  {
   "cell_type": "code",
   "execution_count": 4,
   "metadata": {},
   "outputs": [
    {
     "name": "stdout",
     "output_type": "stream",
     "text": [
      "Ortalama: 80.0\n"
     ]
    }
   ],
   "source": [
    "t = 0\n",
    "\n",
    "for item in notlar:\n",
    "    t += item\n",
    "\n",
    "ortalama = t / len(notlar)\n",
    "\n",
    "print(\"Ortalama:\", ortalama)"
   ]
  },
  {
   "cell_type": "code",
   "execution_count": 5,
   "metadata": {},
   "outputs": [
    {
     "name": "stdout",
     "output_type": "stream",
     "text": [
      "Ortalama: 80.0\n"
     ]
    }
   ],
   "source": [
    "t = 0\n",
    "\n",
    "for i in range(len(notlar)):\n",
    "    t += notlar[i]\n",
    "\n",
    "ortalama = t / len(notlar)\n",
    "\n",
    "print(\"Ortalama:\", ortalama)\n"
   ]
  },
  {
   "cell_type": "code",
   "execution_count": 9,
   "metadata": {},
   "outputs": [
    {
     "name": "stdout",
     "output_type": "stream",
     "text": [
      "2\n",
      "3\n",
      "40\n",
      "100\n",
      "Buldum!\n"
     ]
    }
   ],
   "source": [
    "x = int(input(\"Hangi sayiyi kontrol edeyim?\"))\n",
    "\n",
    "l = [2, 3, 40, 100, 10, 1]\n",
    "\n",
    "for i in l:\n",
    "    print(i)\n",
    "    if i == x:\n",
    "        print(\"Buldum!\")\n",
    "        break\n",
    "        # continue"
   ]
  },
  {
   "cell_type": "code",
   "execution_count": 14,
   "metadata": {},
   "outputs": [
    {
     "name": "stdout",
     "output_type": "stream",
     "text": [
      "89\n",
      "83\n",
      "71\n"
     ]
    }
   ],
   "source": [
    "d = {\"student_1\": [90, 89], \"student_2\": [80, 83], \"student_3\": [72, 71]}\n",
    "\n",
    "for k in d:\n",
    "    v = d[k][1]\n",
    "    print(v)"
   ]
  },
  {
   "cell_type": "code",
   "execution_count": 15,
   "metadata": {},
   "outputs": [
    {
     "name": "stdout",
     "output_type": "stream",
     "text": [
      "2\n"
     ]
    }
   ],
   "source": [
    "for i in range(2, 5, 3):\n",
    "    print(i)"
   ]
  },
  {
   "attachments": {},
   "cell_type": "markdown",
   "metadata": {},
   "source": [
    "### Split-Join Fonksiyonları"
   ]
  },
  {
   "cell_type": "code",
   "execution_count": 18,
   "metadata": {},
   "outputs": [
    {
     "name": "stdout",
     "output_type": "stream",
     "text": [
      "['How', 'are', 'you?']\n"
     ]
    }
   ],
   "source": [
    "s = \"How are you?\"\n",
    "s2 = s.split(\" \") # Hiçbir şey yazmazsak default olarak boşluğa göre böler.\n",
    "print(s2)"
   ]
  },
  {
   "cell_type": "code",
   "execution_count": 23,
   "metadata": {},
   "outputs": [
    {
     "data": {
      "text/plain": [
       "'limon portakal elma'"
      ]
     },
     "execution_count": 23,
     "metadata": {},
     "output_type": "execute_result"
    }
   ],
   "source": [
    "l = [\"limon\", \"portakal\", \"elma\"]\n",
    "# \",\".join(l)\n",
    "# \"-\".join(l)\n",
    "# \"/\".join(l)\n",
    "\" \".join(l)"
   ]
  },
  {
   "attachments": {},
   "cell_type": "markdown",
   "metadata": {},
   "source": [
    "### List Comprehensions"
   ]
  },
  {
   "cell_type": "code",
   "execution_count": 35,
   "metadata": {},
   "outputs": [
    {
     "data": {
      "text/plain": [
       "[1, 4, 9, 16, 25, 36, 49, 64, 81, 100]"
      ]
     },
     "execution_count": 35,
     "metadata": {},
     "output_type": "execute_result"
    }
   ],
   "source": [
    "# Bu standart hali\n",
    "\n",
    "squares = []\n",
    "\n",
    "for i in range(1, 11):\n",
    "    squares.append(i*i)\n",
    "\n",
    "squares"
   ]
  },
  {
   "cell_type": "code",
   "execution_count": 33,
   "metadata": {},
   "outputs": [
    {
     "data": {
      "text/plain": [
       "[6, 7, 8, 9, 10, 11, 12, 13, 14, 15, 16, 17, 18, 19, 20]"
      ]
     },
     "execution_count": 33,
     "metadata": {},
     "output_type": "execute_result"
    }
   ],
   "source": [
    "plusFive = [i + 5 for i in range(1, 16)]\n",
    "plusFive"
   ]
  },
  {
   "cell_type": "code",
   "execution_count": 32,
   "metadata": {},
   "outputs": [
    {
     "data": {
      "text/plain": [
       "[1, 8, 27, 64, 125]"
      ]
     },
     "execution_count": 32,
     "metadata": {},
     "output_type": "execute_result"
    }
   ],
   "source": [
    "def cube(x):\n",
    "    return x ** 3\n",
    "\n",
    "cubes = [cube(i) for i in range(1, 6)]\n",
    "cubes"
   ]
  },
  {
   "cell_type": "code",
   "execution_count": 36,
   "metadata": {},
   "outputs": [
    {
     "data": {
      "text/plain": [
       "[1, 9, 25, 49, 81]"
      ]
     },
     "execution_count": 36,
     "metadata": {},
     "output_type": "execute_result"
    }
   ],
   "source": [
    "oddSquares = [e for e in squares if e % 2 == 1] # Sadece tek sayıları listeye alır.\n",
    "oddSquares"
   ]
  },
  {
   "cell_type": "code",
   "execution_count": 37,
   "metadata": {},
   "outputs": [
    {
     "data": {
      "text/plain": [
       "[4, 16, 36, 64, 100]"
      ]
     },
     "execution_count": 37,
     "metadata": {},
     "output_type": "execute_result"
    }
   ],
   "source": [
    "def isEven(x):\n",
    "\n",
    "    if x % 2 == 0:\n",
    "        return True\n",
    "    \n",
    "    return False\n",
    "\n",
    "\n",
    "evenSquares = [e for e in squares if isEven(e)]\n",
    "evenSquares"
   ]
  },
  {
   "cell_type": "code",
   "execution_count": 38,
   "metadata": {},
   "outputs": [
    {
     "data": {
      "text/plain": [
       "[-1, 4, -1, 16, -1, 36, -1, 64, -1, 100]"
      ]
     },
     "execution_count": 38,
     "metadata": {},
     "output_type": "execute_result"
    }
   ],
   "source": [
    "weirdSquares = [e if e % 2 == 0 else -1 for e in squares] # e, 2'ye kalansız bölünüyorsa kendisini al bölünmüyorsa -1 al.\n",
    "weirdSquares"
   ]
  },
  {
   "attachments": {},
   "cell_type": "markdown",
   "metadata": {},
   "source": [
    "### Set Comprehensions"
   ]
  },
  {
   "cell_type": "code",
   "execution_count": 40,
   "metadata": {},
   "outputs": [
    {
     "data": {
      "text/plain": [
       "{1, 2, 3, 4, 5, 6}"
      ]
     },
     "execution_count": 40,
     "metadata": {},
     "output_type": "execute_result"
    }
   ],
   "source": [
    "numbers = [1, 2, 3, 4, 5, 6, 7, 1, 2]\n",
    "setNumbers = {s for s in numbers if s in [1, 2, 3, 4, 5, 6]} # Sadece unique değerleri alır. O yüzden değerleri sadece bir kez alır.\n",
    "setNumbers"
   ]
  },
  {
   "attachments": {},
   "cell_type": "markdown",
   "metadata": {},
   "source": [
    "### Dictionary Comprehensions"
   ]
  },
  {
   "cell_type": "code",
   "execution_count": 42,
   "metadata": {},
   "outputs": [
    {
     "data": {
      "text/plain": [
       "81"
      ]
     },
     "execution_count": 42,
     "metadata": {},
     "output_type": "execute_result"
    }
   ],
   "source": [
    "squareDict = {e: e*e for e in range(1,11)}\n",
    "squareDict\n",
    "squareDict[9] # 9. Key değerini verir."
   ]
  },
  {
   "attachments": {},
   "cell_type": "markdown",
   "metadata": {},
   "source": [
    "### Nested List Comprehension"
   ]
  },
  {
   "cell_type": "code",
   "execution_count": 46,
   "metadata": {},
   "outputs": [
    {
     "data": {
      "text/plain": [
       "[[1, 2, 3, 4, 5, 6, 7, 8, 9, 10],\n",
       " [1, 2, 3, 4, 5, 6, 7, 8, 9, 10],\n",
       " [1, 2, 3, 4, 5, 6, 7, 8, 9, 10],\n",
       " [1, 2, 3, 4, 5, 6, 7, 8, 9, 10],\n",
       " [1, 2, 3, 4, 5, 6, 7, 8, 9, 10]]"
      ]
     },
     "execution_count": 46,
     "metadata": {},
     "output_type": "execute_result"
    }
   ],
   "source": [
    "# m = [[j for j in range(1, 11)] for i in range(5)] # 5 tane 1'den 10'a kadar olan liste üretiyor. (İç içe liste)\n",
    "m = [[j for j in range(1, 11)] for _ in range(5)] # i yerine _ kullanmak daha mantıklı\n",
    "m"
   ]
  },
  {
   "attachments": {},
   "cell_type": "markdown",
   "metadata": {},
   "source": [
    "### Make A Flat List"
   ]
  },
  {
   "cell_type": "code",
   "execution_count": 47,
   "metadata": {},
   "outputs": [
    {
     "data": {
      "text/plain": [
       "[10, 11, 12, 13, 14, 15, 16, 17, 18]"
      ]
     },
     "execution_count": 47,
     "metadata": {},
     "output_type": "execute_result"
    }
   ],
   "source": [
    "n = [[10, 11, 12], [13, 14], [15, 16, 17, 18]]\n",
    "\n",
    "new_n = []\n",
    "\n",
    "for l in n:\n",
    "    for e in l:\n",
    "        new_n.append(e)\n",
    "\n",
    "new_n"
   ]
  },
  {
   "cell_type": "code",
   "execution_count": 49,
   "metadata": {},
   "outputs": [
    {
     "data": {
      "text/plain": [
       "[10, 11, 12, 13, 14, 15, 16, 17, 18]"
      ]
     },
     "execution_count": 49,
     "metadata": {},
     "output_type": "execute_result"
    }
   ],
   "source": [
    "new_m = [e for l in n for e in l]\n",
    "new_m"
   ]
  },
  {
   "cell_type": "code",
   "execution_count": 50,
   "metadata": {},
   "outputs": [
    {
     "data": {
      "text/plain": [
       "[10, 12, 14, 16, 18]"
      ]
     },
     "execution_count": 50,
     "metadata": {},
     "output_type": "execute_result"
    }
   ],
   "source": [
    "new_m = [e for l in n for e in l if e % 2 == 0]\n",
    "new_m"
   ]
  }
 ],
 "metadata": {
  "kernelspec": {
   "display_name": "Python 3",
   "language": "python",
   "name": "python3"
  },
  "language_info": {
   "codemirror_mode": {
    "name": "ipython",
    "version": 3
   },
   "file_extension": ".py",
   "mimetype": "text/x-python",
   "name": "python",
   "nbconvert_exporter": "python",
   "pygments_lexer": "ipython3",
   "version": "3.10.9"
  },
  "orig_nbformat": 4,
  "vscode": {
   "interpreter": {
    "hash": "b552ae5739a7d29b2abf27855d22e5809c0af65bb04c54121560cab198157e0c"
   }
  }
 },
 "nbformat": 4,
 "nbformat_minor": 2
}
